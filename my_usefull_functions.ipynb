{
 "cells": [
  {
   "cell_type": "markdown",
   "metadata": {},
   "source": [
    "Conjunto de funcoes no open3d para utilizar no software do mestrado "
   ]
  },
  {
   "cell_type": "code",
   "execution_count": 2,
   "metadata": {},
   "outputs": [
    {
     "name": "stdout",
     "output_type": "stream",
     "text": [
      "Jupyter environment detected. Enabling Open3D WebVisualizer.\n",
      "[Open3D INFO] WebRTC GUI backend enabled.\n",
      "[Open3D INFO] WebRTCWindowSystem: HTTP handshake server disabled.\n"
     ]
    }
   ],
   "source": [
    "#Import the usefull libs\n",
    "import open3d as o3d\n",
    "import numpy as np\n",
    "import copy"
   ]
  },
  {
   "cell_type": "code",
   "execution_count": 4,
   "metadata": {},
   "outputs": [
    {
     "name": "stdout",
     "output_type": "stream",
     "text": [
      "xyz\n",
      " [[-3.  3.  0.]\n",
      " [ 3.  3.  0.]\n",
      " [-3. -3.  0.]\n",
      " [ 3. -3.  0.]\n",
      " [-3.  3.  6.]\n",
      " [ 3.  3.  6.]\n",
      " [-3. -3.  6.]\n",
      " [ 3. -3.  6.]]\n"
     ]
    },
    {
     "data": {
      "text/plain": [
       "True"
      ]
     },
     "execution_count": 4,
     "metadata": {},
     "output_type": "execute_result"
    }
   ],
   "source": [
    "\"\"\" Atribuir valores a um objeto open3d - nuvem de pontos \"\"\"\n",
    "col1=np.asarray([-3,3,-3,3,-3,3,-3,3]) #Linha dos pontos em x\n",
    "col2=np.asarray([3,3,-3,-3,3,3,-3,-3]) #Linha dos pontos em y\n",
    "col3=np.asarray([0,0,0,0,6,6,6,6]) #Linha dos pontos em z\n",
    "\n",
    "#Cria uma matriz de zeros (size(col1) linhas x 3 colunas) e preenche \n",
    "xyz = np.zeros((np.size(col1), 3)) \n",
    "xyz[:, 0] = np.reshape(col1, -1)\n",
    "xyz[:, 1] = np.reshape(col2, -1)\n",
    "xyz[:, 2] = np.reshape(col3, -1)\n",
    "\n",
    "#Cria um objeto vazio de nuvem de pontos\n",
    "pcd_demo = o3d.geometry.PointCloud()\n",
    "#Transforma o array do numpy para um vetor 3d e transfere para points\n",
    "pcd_demo.points = o3d.utility.Vector3dVector(xyz) \n",
    "\n",
    "print(\"xyz\\n\",xyz)\n",
    "#Abre a janela de visualizacao para mostrar a figura\n",
    "o3d.visualization.draw_geometries([pcd_demo])\n",
    "\n",
    "#Escreve o \"pcd_demo\" com \"print_pcd_demo.pcd\" para futura leitura\n",
    "o3d.io.write_point_cloud(\"print_pcd_demo.pcd\",pcd_demo)"
   ]
  },
  {
   "cell_type": "code",
   "execution_count": 5,
   "metadata": {},
   "outputs": [
    {
     "name": "stdout",
     "output_type": "stream",
     "text": [
      "[[ 0.         -1.          0.        ]\n",
      " [ 0.         -1.          0.        ]\n",
      " [ 0.          0.70710678 -0.70710678]\n",
      " [ 0.70710678  0.70710678 -0.        ]\n",
      " [ 0.          0.70710678  0.70710678]\n",
      " [-0.70710678  0.70710678  0.        ]]\n",
      "Displaying mesh made using numpy ...\n"
     ]
    }
   ],
   "source": [
    "\"\"\" Atribuir valores a um objeto open3d - triangulos mesh \"\"\"\n",
    "N = 5\n",
    "#Vertices e a propriedade com as coordenadas espaciais dos pontos que compoe o objeto triangle mesh\n",
    "vertices = o3d.utility.Vector3dVector(\n",
    "    np.array([[0, 0, 0], [1, 0, 0], [1, 0, 1], [0, 0, 1], [0.5, 0.5, 0.5]]))\n",
    "\n",
    "#Indice dos 3 vertices que irao formar cada triangulo\n",
    "triangles = o3d.utility.Vector3iVector(\n",
    "    np.array([[0, 1, 2], [0, 2, 3], [0, 4, 1], [1, 4, 2], [2, 4, 3],\n",
    "              [3, 4, 0]]))\n",
    "\n",
    "#Cria o objeto TriangleMesh e preenche com vertices e triangulos \n",
    "mesh_np = o3d.geometry.TriangleMesh(vertices, triangles)\n",
    "\n",
    "#Colorir o objeto\n",
    "mesh_np.vertex_colors = o3d.utility.Vector3dVector(\n",
    "    np.random.uniform(0, 1, size=(N, 3)))\n",
    "mesh_np.compute_vertex_normals()\n",
    "print(np.asarray(mesh_np.triangle_normals))\n",
    "print(\"Displaying mesh made using numpy ...\")\n",
    "\n",
    "#Abre a janela de visualizacao para mostrar a figura\n",
    "o3d.visualization.draw_geometries([mesh_np])"
   ]
  },
  {
   "cell_type": "code",
   "execution_count": 5,
   "metadata": {},
   "outputs": [
    {
     "name": "stdout",
     "output_type": "stream",
     "text": [
      "xyz_load\n",
      "[[0.65234375 0.84686458 2.37890625]\n",
      " [0.65234375 0.83984375 2.38430572]\n",
      " [0.66737998 0.83984375 2.37890625]\n",
      " ...\n",
      " [2.00839925 2.39453125 1.88671875]\n",
      " [2.00390625 2.39488506 1.88671875]\n",
      " [2.00390625 2.39453125 1.88793314]]\n"
     ]
    }
   ],
   "source": [
    "\"\"\" Ler valores de um objeto open3d - nuvem de pontos \"\"\"\n",
    "\n",
    "ply_point_cloud = o3d.data.PLYPointCloud()\n",
    "pcd = o3d.io.read_point_cloud(ply_point_cloud.path)\n",
    "\n",
    "o3d.io.write_point_cloud(\"sync.pcd\", pcd)\n",
    "pcd_load = o3d.io.read_point_cloud(\"sync.pcd\")\n",
    "xyz_load = np.asarray(pcd_load.points)\n",
    "print('xyz_load')\n",
    "print(xyz_load)\n",
    "\n",
    "o3d.visualization.draw_geometries([pcd_load])"
   ]
  },
  {
   "cell_type": "code",
   "execution_count": 6,
   "metadata": {},
   "outputs": [
    {
     "name": "stdout",
     "output_type": "stream",
     "text": [
      "Vertices:\n",
      "[[  4.51268387  28.68865967 -76.55680847]\n",
      " [  7.63622284  35.52046967 -69.78063965]\n",
      " [  6.21986008  44.22465134 -64.82303619]\n",
      " ...\n",
      " [-22.12651634  31.28466606 -87.37570953]\n",
      " [-13.91188431  25.4865818  -86.25827026]\n",
      " [ -5.27768707  23.36245346 -81.43279266]]\n",
      "Vertex Colors:\n",
      "[[0.5 0.1 0.3]\n",
      " [0.5 0.1 0.3]\n",
      " [0.5 0.1 0.3]\n",
      " ...\n",
      " [0.5 0.1 0.3]\n",
      " [0.5 0.1 0.3]\n",
      " [0.5 0.1 0.3]]\n",
      "Vertex Normals:\n",
      "[]\n",
      "Triangles:\n",
      "[[   0   12   13]\n",
      " [   0   13    1]\n",
      " [   1   13   14]\n",
      " ...\n",
      " [1438   11 1439]\n",
      " [1439   11    0]\n",
      " [1439    0 1428]]\n",
      "Triangle Normals:\n",
      "[]\n",
      "Displaying mesh ...\n",
      "TriangleMesh with 1440 points and 2880 triangles.\n",
      "[Open3D INFO] Window window_2 created.\n"
     ]
    },
    {
     "ename": "KeyboardInterrupt",
     "evalue": "",
     "output_type": "error",
     "traceback": [
      "\u001b[0;31m---------------------------------------------------------------------------\u001b[0m",
      "\u001b[0;31mKeyboardInterrupt\u001b[0m                         Traceback (most recent call last)",
      "\u001b[1;32m/home/leonardo/Desktop/3D Data Processing with Open3D/functions.ipynb Cell 6\u001b[0m line \u001b[0;36m1\n\u001b[1;32m     <a href='vscode-notebook-cell:/home/leonardo/Desktop/3D%20Data%20Processing%20with%20Open3D/functions.ipynb#W5sZmlsZQ%3D%3D?line=16'>17</a>\u001b[0m \u001b[39mprint\u001b[39m(\u001b[39m\"\u001b[39m\u001b[39mDisplaying mesh ...\u001b[39m\u001b[39m\"\u001b[39m)\n\u001b[1;32m     <a href='vscode-notebook-cell:/home/leonardo/Desktop/3D%20Data%20Processing%20with%20Open3D/functions.ipynb#W5sZmlsZQ%3D%3D?line=17'>18</a>\u001b[0m \u001b[39mprint\u001b[39m(mesh)\n\u001b[0;32m---> <a href='vscode-notebook-cell:/home/leonardo/Desktop/3D%20Data%20Processing%20with%20Open3D/functions.ipynb#W5sZmlsZQ%3D%3D?line=18'>19</a>\u001b[0m o3d\u001b[39m.\u001b[39;49mvisualization\u001b[39m.\u001b[39;49mdraw([mesh])\n",
      "File \u001b[0;32m~/Desktop/3D Data Processing with Open3D/env/lib/python3.10/site-packages/open3d/visualization/draw.py:112\u001b[0m, in \u001b[0;36mdraw\u001b[0;34m(geometry, title, width, height, actions, lookat, eye, up, field_of_view, intrinsic_matrix, extrinsic_matrix, bg_color, bg_image, ibl, ibl_intensity, show_skybox, show_ui, raw_mode, point_size, line_width, animation_time_step, animation_duration, rpc_interface, on_init, on_animation_frame, on_animation_tick, non_blocking_and_return_uid)\u001b[0m\n\u001b[1;32m    110\u001b[0m     \u001b[39mreturn\u001b[39;00m w\u001b[39m.\u001b[39muid\n\u001b[1;32m    111\u001b[0m \u001b[39melse\u001b[39;00m:\n\u001b[0;32m--> 112\u001b[0m     gui\u001b[39m.\u001b[39;49mApplication\u001b[39m.\u001b[39;49minstance\u001b[39m.\u001b[39;49mrun()\n",
      "\u001b[0;31mKeyboardInterrupt\u001b[0m: "
     ]
    }
   ],
   "source": [
    "\"\"\" Ler valores de um objeto open3d - triangulos mesh \"\"\"\n",
    "\n",
    "# Read a mesh and get its data as numpy arrays.\n",
    "knot_mesh = o3d.data.KnotMesh()\n",
    "mesh = o3d.io.read_triangle_mesh(knot_mesh.path)\n",
    "mesh.paint_uniform_color([0.5, 0.1, 0.3])\n",
    "print('Vertices:')\n",
    "print(np.asarray(mesh.vertices))\n",
    "print('Vertex Colors:')\n",
    "print(np.asarray(mesh.vertex_colors))\n",
    "print('Vertex Normals:')\n",
    "print(np.asarray(mesh.vertex_normals))\n",
    "print('Triangles:')\n",
    "print(np.asarray(mesh.triangles))\n",
    "print('Triangle Normals:')\n",
    "print(np.asarray(mesh.triangle_normals))\n",
    "print(\"Displaying mesh ...\")\n",
    "print(mesh)\n",
    "o3d.visualization.draw([mesh])"
   ]
  }
 ],
 "metadata": {
  "kernelspec": {
   "display_name": "env",
   "language": "python",
   "name": "python3"
  },
  "language_info": {
   "codemirror_mode": {
    "name": "ipython",
    "version": 3
   },
   "file_extension": ".py",
   "mimetype": "text/x-python",
   "name": "python",
   "nbconvert_exporter": "python",
   "pygments_lexer": "ipython3",
   "version": "3.10.12"
  }
 },
 "nbformat": 4,
 "nbformat_minor": 2
}
